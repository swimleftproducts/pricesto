{
 "cells": [
  {
   "cell_type": "code",
   "execution_count": 1,
   "metadata": {},
   "outputs": [],
   "source": [
    "# features\n",
    "# title\n",
    "# listing description - right side page\n",
    "# posting body - main description\n",
    "# embedding - listing title + posting body 1536 dimensions\n",
    "# image link - currently this would be the first image in the listing,\n",
    "#              but we could also use all images in the listing.\n",
    "#              Also, possible to make a single record for each image in the listing, with the same\n",
    "#              title, description, embedding, and price and other features.\n",
    "# cylinders - 6 cylinders (not sure range of values)\n",
    "# drive - 2wd, 4wd, rwd (not sure range of values)\n",
    "# fuel - gas, diesel, electric, hybrid (not sure range of values)\n",
    "# odometer - miles\n",
    "# transmission - automatic or manual (not sure range of values)\n",
    "# type - truck or car"
   ]
  },
  {
   "cell_type": "code",
   "execution_count": 10,
   "metadata": {},
   "outputs": [],
   "source": [
    "tacoma_listing_1 = {\n",
    "    'title': \"2022 Toyota Tacoma 4WD 4x4 Truck TRD Off Road Crew Cab - $37,697 (AutoNation Buick GMC Park Meadows)\",\n",
    "    'listing_description' : \"2022 Toyota Tacoma 4WD\",\n",
    "    'posting_body' : \"\"\"As America's Largest Automotive Retailer we have thousands of other vehicles, including many others that may be identical to this one.\n",
    "                         Use the link below to view similar inventory from this dealership.\n",
    "                        ↪ https://atmxi.com/CL-LEGe  🚗 \n",
    "                        1A0F2A155056A981\"\"\",\n",
    "    'image_link' : \"https://images.craigslist.org/01515_l8eYKPRC4TH_0ak07K_600x450.jpg\",\n",
    "    'cylinders' : \"6 cylinders\",\n",
    "    'drive' : \"4wd\",\n",
    "    'fuel' : \"gas\",\n",
    "    'odometer' : 38132,\n",
    "    'transmission' : \"automatic\",\n",
    "    'type' : \"truck\",\n",
    "}\n",
    "tacoma_listing_2 = {\n",
    "    'title': \"2022 Toyota Tacoma 4WD 4x4 Truck TRD Off Road Crew Cab - $37,697 (AutoNation Buick GMC Park Meadows)\",\n",
    "    'listing_description' : \"2022 Toyota Tacoma 4WD\",\n",
    "    'posting_body' : \"\"\"As America's Largest Automotive Retailer we have thousands of other vehicles, including many others that may be identical to this one.\n",
    "                         Use the link below to view similar inventory from this dealership.\n",
    "                        ↪ https://atmxi.com/CL-LEGe  🚗 \n",
    "                        1A0F2A155056A981\"\"\",\n",
    "    'image_link' : \"https://images.craigslist.org/01515_l8eYKPRC4TH_0ak07K_600x450.jpg\",\n",
    "    'cylinders' : \"4 cylinders\",\n",
    "    'drive' : \"2wd\",\n",
    "    'fuel' : \"gas\",\n",
    "    'odometer' : 28132,\n",
    "    'transmission' : \"manual\",\n",
    "    'type' : \"truck\",\n",
    "}"
   ]
  },
  {
   "cell_type": "code",
   "execution_count": 11,
   "metadata": {},
   "outputs": [],
   "source": [
    "data = [tacoma_listing_1, tacoma_listing_2]"
   ]
  },
  {
   "cell_type": "code",
   "execution_count": 12,
   "metadata": {},
   "outputs": [],
   "source": [
    "# make df form data ultimately, this will take in a .csv that is created from a db query\n",
    "df = pd.DataFrame(data)"
   ]
  },
  {
   "cell_type": "code",
   "execution_count": null,
   "metadata": {},
   "outputs": [],
   "source": [
    "df.head()"
   ]
  },
  {
   "cell_type": "code",
   "execution_count": 3,
   "metadata": {},
   "outputs": [],
   "source": [
    "import requests\n",
    "from PIL import Image\n",
    "from io import BytesIO\n",
    "import pandas as pd\n",
    "import numpy as np"
   ]
  },
  {
   "cell_type": "code",
   "execution_count": 38,
   "metadata": {},
   "outputs": [],
   "source": [
    "def download_image(image_url):\n",
    "    response = requests.get(image_url)\n",
    "    img = Image.open(BytesIO(response.content))\n",
    "    return img\n",
    "\n",
    "def one_hot_encode(df, categories):\n",
    "    # Apply one-hot encoding to the specified categories\n",
    "    df_encoded = pd.get_dummies(df, columns=categories, drop_first=False, prefix_sep='_', dtype=int)\n",
    "    \n",
    "    return df_encoded\n",
    "\n",
    "def load_data(df, categories):\n",
    "    # One-hot encode the specified categorical features\n",
    "    df_encoded = one_hot_encode(df, categories)\n",
    "\n",
    "    return df_encoded\n",
    "\n",
    "one_hot_categories = ['cylinders', 'drive', 'fuel', 'transmission', 'type']\n"
   ]
  },
  {
   "cell_type": "code",
   "execution_count": null,
   "metadata": {},
   "outputs": [],
   "source": [
    "# the df now has all on hot categories embedded on hot style\n",
    "features_df = load_data(df, one_hot_categories)"
   ]
  },
  {
   "cell_type": "code",
   "execution_count": 42,
   "metadata": {},
   "outputs": [],
   "source": [
    "import torch\n",
    "from torch.utils.data import Dataset\n",
    "from torchvision import transforms\n",
    "from torch.utils.data import DataLoader"
   ]
  },
  {
   "cell_type": "code",
   "execution_count": 81,
   "metadata": {},
   "outputs": [],
   "source": [
    "class CarListingDataset(Dataset):\n",
    "    def __init__(self, dataframe, transform=None):\n",
    "        \"\"\"\n",
    "        dataframe: A Pandas DataFrame containing the data.\n",
    "        transform: PyTorch transforms to be applied to the images.\n",
    "        \"\"\"\n",
    "        self.dataframe = dataframe\n",
    "        self.transform = transform\n",
    "\n",
    "    def __len__(self):\n",
    "        return len(self.dataframe)\n",
    "\n",
    "    def __getitem__(self, idx):\n",
    "        # Get the data for one listing\n",
    "        listing = self.dataframe.iloc[idx]\n",
    "        # Download and process the image\n",
    "        image = self.download_image(listing['image_link'])\n",
    "        if self.transform:\n",
    "            image = self.transform(image)\n",
    "        else:\n",
    "            #convert image\n",
    "            # reorder to have 3 channels of 600x450  currently this results in 1 x 600 x 450 x 3\n",
    "            image = np.array(image)\n",
    "            image = torch.tensor(image, dtype=torch.float32)\n",
    "            image = image.permute(2, 0, 1)  # Change from [H, W, C] to [C, H, W]\n",
    "\n",
    "      \n",
    "        # Extract and process other features (one-hot encoded)\n",
    "        features = listing.drop('image_link')  # Assuming 'image_link' is the only non-feature column\n",
    "\n",
    "        # Convert features and labels to tensors \n",
    "        # TODOD : need to combine and embedd text\n",
    "        # features_tensor = torch.tensor(features.values, dtype=torch.float32)\n",
    "        # make blank tensor for now\n",
    "        features_tensor = torch.tensor(np.zeros(1536), dtype=torch.float32)\n",
    "\n",
    "        return image, features_tensor\n",
    "\n",
    "    @staticmethod\n",
    "    def download_image(image_url):\n",
    "        response = requests.get(image_url)\n",
    "        img = Image.open(BytesIO(response.content)).convert('RGB')\n",
    "        return img\n",
    "\n",
    "transform = transforms.Compose([\n",
    "    transforms.Resize((224, 224)),  # Resize all images to 224x224\n",
    "    transforms.ToTensor()           # Convert images to PyTorch tensors\n",
    "])\n"
   ]
  },
  {
   "cell_type": "code",
   "execution_count": 82,
   "metadata": {},
   "outputs": [],
   "source": [
    "\n",
    "dataset = CarListingDataset(df, transform=None)\n",
    "\n",
    "# DataLoader with a batch size of 1\n",
    "dataloader = DataLoader(dataset, batch_size=1, shuffle=False)\n"
   ]
  },
  {
   "cell_type": "code",
   "execution_count": 83,
   "metadata": {},
   "outputs": [
    {
     "name": "stdout",
     "output_type": "stream",
     "text": [
      "torch.Size([1, 3, 450, 600])\n",
      "torch.Size([1, 3, 450, 600])\n"
     ]
    }
   ],
   "source": [
    "for image, features in dataloader:\n",
    "    print( image.shape)"
   ]
  },
  {
   "cell_type": "code",
   "execution_count": 84,
   "metadata": {},
   "outputs": [],
   "source": [
    "import torch.nn as nn\n",
    "import torch.nn.functional as F"
   ]
  },
  {
   "cell_type": "code",
   "execution_count": 85,
   "metadata": {},
   "outputs": [],
   "source": [
    "class CNN(nn.Module):\n",
    "    def __init__(self):\n",
    "        super(CNN, self).__init__()\n",
    "        \n",
    "        # First Convolutional Layer\n",
    "        self.conv1 = nn.Conv2d(in_channels=3, out_channels=16, kernel_size=3, padding=1)\n",
    "        self.pool = nn.MaxPool2d(kernel_size=2, stride=2)\n",
    "        # now 300 x 225 x 16\n",
    "\n",
    "        # Second Convolutional Layer\n",
    "        self.conv2 = nn.Conv2d(in_channels=16, out_channels=32, kernel_size=3, padding=1)\n",
    "        # after pooling 150 x 112 x 32\n",
    "\n",
    "        # Third Convolutional Layer\n",
    "        self.conv3 = nn.Conv2d(in_channels=32, out_channels=64, kernel_size=3, padding=1)\n",
    "        #after pooling 75 x 56 x 64\n",
    "\n",
    "        # Fully Connected Layer for Price Prediction\n",
    "        self.fc1 = nn.Linear(in_features=64 * 75 * 56, out_features=126)\n",
    "        self.fc2 = nn.Linear(in_features=126, out_features=1)\n",
    "\n",
    "        # Fully Connected Layer for 126-dimension vector\n",
    "        self.fc_vector = nn.Linear(in_features=64 * 75 * 56, out_features=126)\n",
    "\n",
    "    def forward(self, x, output_type='price'):\n",
    "        # Apply Convolutional layers and pooling layers\n",
    "        x = self.pool(F.relu(self.conv1(x)))\n",
    "        x = self.pool(F.relu(self.conv2(x)))\n",
    "        x = self.pool(F.relu(self.conv3(x)))\n",
    "\n",
    "        # Flatten the output for the dense layers\n",
    "        x = x.view(-1, 64 * 75 * 56)\n",
    "\n",
    "        if output_type == 'price':\n",
    "            # Fully connected layers for price prediction\n",
    "            x = F.relu(self.fc1(x))\n",
    "            x = self.fc2(x)\n",
    "            return x\n",
    "        elif output_type == 'feature_vector':\n",
    "            # Output a 126-dimensional feature vector\n",
    "            x = self.fc_vector(x)\n",
    "            return x\n"
   ]
  },
  {
   "cell_type": "code",
   "execution_count": 88,
   "metadata": {},
   "outputs": [],
   "source": [
    "model = CNN()\n",
    "model.eval()\n",
    "image, features = next(iter(dataloader))"
   ]
  },
  {
   "cell_type": "code",
   "execution_count": 92,
   "metadata": {},
   "outputs": [
    {
     "name": "stdout",
     "output_type": "stream",
     "text": [
      "Predicted Prices: torch.Size([1, 126])\n"
     ]
    }
   ],
   "source": [
    "with torch.no_grad():  # Disable gradient computation for inference\n",
    "    output = model(image, output_type='feature_vector')  # or 'feature_vector' based on your need\n",
    "\n",
    "# Print the model's prediction\n",
    "print(\"Predicted Prices:\", output.shape)"
   ]
  }
 ],
 "metadata": {
  "kernelspec": {
   "display_name": "pricesto",
   "language": "python",
   "name": "python3"
  },
  "language_info": {
   "codemirror_mode": {
    "name": "ipython",
    "version": 3
   },
   "file_extension": ".py",
   "mimetype": "text/x-python",
   "name": "python",
   "nbconvert_exporter": "python",
   "pygments_lexer": "ipython3",
   "version": "3.10.13"
  }
 },
 "nbformat": 4,
 "nbformat_minor": 2
}
