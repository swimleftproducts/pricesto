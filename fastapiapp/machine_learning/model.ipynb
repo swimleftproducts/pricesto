{
 "cells": [
  {
   "cell_type": "markdown",
   "metadata": {},
   "source": [
    "First run pip install -r requirements.txt from the main folder\n",
    "Also need to get envs variables easy"
   ]
  },
  {
   "cell_type": "code",
   "execution_count": 2,
   "metadata": {
    "collapsed": true,
    "execution": {
     "iopub.execute_input": "2023-12-01T03:50:25.178299Z",
     "iopub.status.busy": "2023-12-01T03:50:25.177775Z",
     "iopub.status.idle": "2023-12-01T03:50:35.926673Z",
     "shell.execute_reply": "2023-12-01T03:50:35.925926Z",
     "shell.execute_reply.started": "2023-12-01T03:50:25.178270Z"
    },
    "jupyter": {
     "outputs_hidden": true
    }
   },
   "outputs": [
    {
     "name": "stdout",
     "output_type": "stream",
     "text": [
      "Requirement already satisfied: beautifulsoup4==4.10.0 in /usr/local/lib/python3.9/dist-packages (from -r ..//requirements.txt (line 1)) (4.10.0)\n",
      "Requirement already satisfied: boto3==1.29.4 in /usr/local/lib/python3.9/dist-packages (from -r ..//requirements.txt (line 2)) (1.29.4)\n",
      "Requirement already satisfied: fastapi==0.104.1 in /usr/local/lib/python3.9/dist-packages (from -r ..//requirements.txt (line 3)) (0.104.1)\n",
      "Requirement already satisfied: pydantic==2.5.2 in /usr/local/lib/python3.9/dist-packages (from -r ..//requirements.txt (line 4)) (2.5.2)\n",
      "Requirement already satisfied: python-dotenv==1.0.0 in /usr/local/lib/python3.9/dist-packages (from -r ..//requirements.txt (line 5)) (1.0.0)\n",
      "Requirement already satisfied: Requests==2.31.0 in /usr/local/lib/python3.9/dist-packages (from -r ..//requirements.txt (line 6)) (2.31.0)\n",
      "Requirement already satisfied: SQLAlchemy==2.0.23 in /usr/local/lib/python3.9/dist-packages (from -r ..//requirements.txt (line 7)) (2.0.23)\n",
      "Requirement already satisfied: soupsieve>1.2 in /usr/local/lib/python3.9/dist-packages (from beautifulsoup4==4.10.0->-r ..//requirements.txt (line 1)) (2.3.2.post1)\n",
      "Requirement already satisfied: botocore<1.33.0,>=1.32.4 in /usr/local/lib/python3.9/dist-packages (from boto3==1.29.4->-r ..//requirements.txt (line 2)) (1.32.7)\n",
      "Requirement already satisfied: s3transfer<0.8.0,>=0.7.0 in /usr/local/lib/python3.9/dist-packages (from boto3==1.29.4->-r ..//requirements.txt (line 2)) (0.7.0)\n",
      "Requirement already satisfied: jmespath<2.0.0,>=0.7.1 in /usr/local/lib/python3.9/dist-packages (from boto3==1.29.4->-r ..//requirements.txt (line 2)) (1.0.1)\n",
      "Requirement already satisfied: typing-extensions>=4.8.0 in /usr/local/lib/python3.9/dist-packages (from fastapi==0.104.1->-r ..//requirements.txt (line 3)) (4.8.0)\n",
      "Requirement already satisfied: anyio<4.0.0,>=3.7.1 in /usr/local/lib/python3.9/dist-packages (from fastapi==0.104.1->-r ..//requirements.txt (line 3)) (3.7.1)\n",
      "Requirement already satisfied: starlette<0.28.0,>=0.27.0 in /usr/local/lib/python3.9/dist-packages (from fastapi==0.104.1->-r ..//requirements.txt (line 3)) (0.27.0)\n",
      "Requirement already satisfied: pydantic-core==2.14.5 in /usr/local/lib/python3.9/dist-packages (from pydantic==2.5.2->-r ..//requirements.txt (line 4)) (2.14.5)\n",
      "Requirement already satisfied: annotated-types>=0.4.0 in /usr/local/lib/python3.9/dist-packages (from pydantic==2.5.2->-r ..//requirements.txt (line 4)) (0.6.0)\n",
      "Requirement already satisfied: idna<4,>=2.5 in /usr/lib/python3/dist-packages (from Requests==2.31.0->-r ..//requirements.txt (line 6)) (2.8)\n",
      "Requirement already satisfied: urllib3<3,>=1.21.1 in /usr/local/lib/python3.9/dist-packages (from Requests==2.31.0->-r ..//requirements.txt (line 6)) (1.26.14)\n",
      "Requirement already satisfied: certifi>=2017.4.17 in /usr/lib/python3/dist-packages (from Requests==2.31.0->-r ..//requirements.txt (line 6)) (2019.11.28)\n",
      "Requirement already satisfied: charset-normalizer<4,>=2 in /usr/local/lib/python3.9/dist-packages (from Requests==2.31.0->-r ..//requirements.txt (line 6)) (2.1.1)\n",
      "Requirement already satisfied: greenlet!=0.4.17 in /usr/local/lib/python3.9/dist-packages (from SQLAlchemy==2.0.23->-r ..//requirements.txt (line 7)) (2.0.1)\n",
      "Requirement already satisfied: sniffio>=1.1 in /usr/local/lib/python3.9/dist-packages (from anyio<4.0.0,>=3.7.1->fastapi==0.104.1->-r ..//requirements.txt (line 3)) (1.3.0)\n",
      "Requirement already satisfied: exceptiongroup in /usr/local/lib/python3.9/dist-packages (from anyio<4.0.0,>=3.7.1->fastapi==0.104.1->-r ..//requirements.txt (line 3)) (1.1.0)\n",
      "Requirement already satisfied: python-dateutil<3.0.0,>=2.1 in /usr/local/lib/python3.9/dist-packages (from botocore<1.33.0,>=1.32.4->boto3==1.29.4->-r ..//requirements.txt (line 2)) (2.8.2)\n",
      "Requirement already satisfied: six>=1.5 in /usr/lib/python3/dist-packages (from python-dateutil<3.0.0,>=2.1->botocore<1.33.0,>=1.32.4->boto3==1.29.4->-r ..//requirements.txt (line 2)) (1.14.0)\n",
      "\u001b[33mWARNING: Running pip as the 'root' user can result in broken permissions and conflicting behaviour with the system package manager. It is recommended to use a virtual environment instead: https://pip.pypa.io/warnings/venv\u001b[0m\u001b[33m\n",
      "\u001b[0mRequirement already satisfied: openai in /usr/local/lib/python3.9/dist-packages (1.3.6)\n",
      "Requirement already satisfied: sniffio in /usr/local/lib/python3.9/dist-packages (from openai) (1.3.0)\n",
      "Requirement already satisfied: pydantic<3,>=1.9.0 in /usr/local/lib/python3.9/dist-packages (from openai) (2.5.2)\n",
      "Requirement already satisfied: anyio<4,>=3.5.0 in /usr/local/lib/python3.9/dist-packages (from openai) (3.7.1)\n",
      "Requirement already satisfied: distro<2,>=1.7.0 in /usr/local/lib/python3.9/dist-packages (from openai) (1.8.0)\n",
      "Requirement already satisfied: httpx<1,>=0.23.0 in /usr/local/lib/python3.9/dist-packages (from openai) (0.25.2)\n",
      "Requirement already satisfied: typing-extensions<5,>=4.5 in /usr/local/lib/python3.9/dist-packages (from openai) (4.8.0)\n",
      "Requirement already satisfied: tqdm>4 in /usr/local/lib/python3.9/dist-packages (from openai) (4.64.1)\n",
      "Requirement already satisfied: exceptiongroup in /usr/local/lib/python3.9/dist-packages (from anyio<4,>=3.5.0->openai) (1.1.0)\n",
      "Requirement already satisfied: idna>=2.8 in /usr/lib/python3/dist-packages (from anyio<4,>=3.5.0->openai) (2.8)\n",
      "Requirement already satisfied: httpcore==1.* in /usr/local/lib/python3.9/dist-packages (from httpx<1,>=0.23.0->openai) (1.0.2)\n",
      "Requirement already satisfied: certifi in /usr/lib/python3/dist-packages (from httpx<1,>=0.23.0->openai) (2019.11.28)\n",
      "Requirement already satisfied: h11<0.15,>=0.13 in /usr/local/lib/python3.9/dist-packages (from httpcore==1.*->httpx<1,>=0.23.0->openai) (0.14.0)\n",
      "Requirement already satisfied: pydantic-core==2.14.5 in /usr/local/lib/python3.9/dist-packages (from pydantic<3,>=1.9.0->openai) (2.14.5)\n",
      "Requirement already satisfied: annotated-types>=0.4.0 in /usr/local/lib/python3.9/dist-packages (from pydantic<3,>=1.9.0->openai) (0.6.0)\n",
      "\u001b[33mWARNING: Running pip as the 'root' user can result in broken permissions and conflicting behaviour with the system package manager. It is recommended to use a virtual environment instead: https://pip.pypa.io/warnings/venv\u001b[0m\u001b[33m\n",
      "\u001b[0mRequirement already satisfied: psycopg2-binary in /usr/local/lib/python3.9/dist-packages (2.9.9)\n",
      "\u001b[33mWARNING: Running pip as the 'root' user can result in broken permissions and conflicting behaviour with the system package manager. It is recommended to use a virtual environment instead: https://pip.pypa.io/warnings/venv\u001b[0m\u001b[33m\n",
      "\u001b[0mdone\n"
     ]
    }
   ],
   "source": [
    "!pip install -r ..//requirements.txt\n",
    "!pip install openai\n",
    "!pip install psycopg2-binary\n",
    "import sys\n",
    "import os\n",
    "print('done')"
   ]
  },
  {
   "cell_type": "code",
   "execution_count": 6,
   "metadata": {
    "execution": {
     "iopub.execute_input": "2023-12-01T03:14:39.301235Z",
     "iopub.status.busy": "2023-12-01T03:14:39.300678Z",
     "iopub.status.idle": "2023-12-01T03:14:39.307033Z",
     "shell.execute_reply": "2023-12-01T03:14:39.305878Z",
     "shell.execute_reply.started": "2023-12-01T03:14:39.301194Z"
    }
   },
   "outputs": [],
   "source": [
    "# features\n",
    "# title\n",
    "# listing description - right side page\n",
    "# posting body - main description\n",
    "# embedding - listing title + posting body 1536 dimensions\n",
    "# image link - currently this would be the first image in the listing,\n",
    "#              but we could also use all images in the listing.\n",
    "#              Also, possible to make a single record for each image in the listing, with the same\n",
    "#              title, description, embedding, and price and other features.\n",
    "# cylinders - 6 cylinders (not sure range of values)\n",
    "# drive - 2wd, 4wd, rwd (not sure range of values)\n",
    "# fuel - gas, diesel, electric, hybrid (not sure range of values)\n",
    "# odometer - miles\n",
    "# transmission - automatic or manual (not sure range of values)\n",
    "# type - truck or car\n"
   ]
  },
  {
   "cell_type": "code",
   "execution_count": 3,
   "metadata": {
    "execution": {
     "iopub.execute_input": "2023-12-01T03:50:41.755357Z",
     "iopub.status.busy": "2023-12-01T03:50:41.754708Z",
     "iopub.status.idle": "2023-12-01T03:50:41.759962Z",
     "shell.execute_reply": "2023-12-01T03:50:41.759401Z",
     "shell.execute_reply.started": "2023-12-01T03:50:41.755328Z"
    }
   },
   "outputs": [],
   "source": [
    "import sys\n",
    "from pathlib import Path\n",
    "\n",
    "# Get the path to /notebooks/pricesto\n",
    "project_root = Path('/notebooks/pricesto')\n",
    "\n",
    "# Add this path to sys.path if it's not already there\n",
    "if str(project_root) not in sys.path:\n",
    "    sys.path.insert(0, str(project_root))"
   ]
  },
  {
   "cell_type": "code",
   "execution_count": 5,
   "metadata": {
    "execution": {
     "iopub.execute_input": "2023-12-01T03:43:02.120734Z",
     "iopub.status.busy": "2023-12-01T03:43:02.119761Z",
     "iopub.status.idle": "2023-12-01T03:43:02.124938Z",
     "shell.execute_reply": "2023-12-01T03:43:02.123895Z",
     "shell.execute_reply.started": "2023-12-01T03:43:02.120704Z"
    }
   },
   "outputs": [],
   "source": []
  },
  {
   "cell_type": "code",
   "execution_count": null,
   "metadata": {},
   "outputs": [],
   "source": []
  },
  {
   "cell_type": "code",
   "execution_count": 4,
   "metadata": {
    "execution": {
     "iopub.execute_input": "2023-12-01T03:50:44.884442Z",
     "iopub.status.busy": "2023-12-01T03:50:44.884075Z",
     "iopub.status.idle": "2023-12-01T03:50:44.909700Z",
     "shell.execute_reply": "2023-12-01T03:50:44.908752Z",
     "shell.execute_reply.started": "2023-12-01T03:50:44.884415Z"
    }
   },
   "outputs": [
    {
     "name": "stdout",
     "output_type": "stream",
     "text": [
      "LOADING  staging  ENV\n",
      "Loading environment file from: /notebooks/pricesto/fastapiapp/envs/staging.env\n",
      "Newly loaded environment variables:\n",
      "AWS_REGION\n",
      "S3_BUCKET\n",
      "DB_URI\n",
      "MODE\n",
      "BASIC_AUTH_PASSWORD\n",
      "AWS_SECRET_ACCESS_KEY\n",
      "BASIC_AUTH_USERNAME\n",
      "AWS_ACCESS_KEY_ID\n",
      "OPENAI_API_KEY\n"
     ]
    }
   ],
   "source": [
    "from fastapiapp.app.environment import load_environment\n",
    "load_environment('staging')"
   ]
  },
  {
   "cell_type": "code",
   "execution_count": 5,
   "metadata": {
    "execution": {
     "iopub.execute_input": "2023-12-01T03:50:48.902397Z",
     "iopub.status.busy": "2023-12-01T03:50:48.902080Z",
     "iopub.status.idle": "2023-12-01T03:50:49.454923Z",
     "shell.execute_reply": "2023-12-01T03:50:49.453851Z",
     "shell.execute_reply.started": "2023-12-01T03:50:48.902373Z"
    }
   },
   "outputs": [],
   "source": [
    "from openai import OpenAI\n",
    "client = OpenAI()"
   ]
  },
  {
   "cell_type": "code",
   "execution_count": 6,
   "metadata": {
    "execution": {
     "iopub.execute_input": "2023-12-01T03:50:50.501679Z",
     "iopub.status.busy": "2023-12-01T03:50:50.501228Z",
     "iopub.status.idle": "2023-12-01T03:50:50.511196Z",
     "shell.execute_reply": "2023-12-01T03:50:50.510174Z",
     "shell.execute_reply.started": "2023-12-01T03:50:50.501650Z"
    }
   },
   "outputs": [],
   "source": [
    "def get_embedding(string):\n",
    "    try:\n",
    "        response = client.embeddings.create(\n",
    "            input = string,\n",
    "            model = 'text-embedding-ada-002'\n",
    "        )\n",
    "        return response.data[0].embedding\n",
    "\n",
    "    except Exception as e:\n",
    "        print(f'An error occured: {e}')"
   ]
  },
  {
   "cell_type": "code",
   "execution_count": 15,
   "metadata": {
    "execution": {
     "iopub.execute_input": "2023-12-01T03:15:57.000536Z",
     "iopub.status.busy": "2023-12-01T03:15:56.999476Z",
     "iopub.status.idle": "2023-12-01T03:15:57.166417Z",
     "shell.execute_reply": "2023-12-01T03:15:57.165729Z",
     "shell.execute_reply.started": "2023-12-01T03:15:57.000500Z"
    }
   },
   "outputs": [
    {
     "name": "stdout",
     "output_type": "stream",
     "text": [
      "1536\n"
     ]
    }
   ],
   "source": [
    "response = get_embedding('This is a test')\n",
    "print(len(response))"
   ]
  },
  {
   "cell_type": "code",
   "execution_count": 9,
   "metadata": {
    "execution": {
     "iopub.execute_input": "2023-12-01T03:48:24.583623Z",
     "iopub.status.busy": "2023-12-01T03:48:24.583299Z",
     "iopub.status.idle": "2023-12-01T03:48:24.588314Z",
     "shell.execute_reply": "2023-12-01T03:48:24.587202Z",
     "shell.execute_reply.started": "2023-12-01T03:48:24.583598Z"
    }
   },
   "outputs": [],
   "source": [
    "from fastapiapp.app.database import SessionLocal\n",
    "from fastapiapp.app.models import *\n"
   ]
  },
  {
   "cell_type": "code",
   "execution_count": 13,
   "metadata": {
    "execution": {
     "iopub.execute_input": "2023-12-01T03:49:08.417765Z",
     "iopub.status.busy": "2023-12-01T03:49:08.417436Z",
     "iopub.status.idle": "2023-12-01T03:49:08.432950Z",
     "shell.execute_reply": "2023-12-01T03:49:08.431541Z",
     "shell.execute_reply.started": "2023-12-01T03:49:08.417740Z"
    }
   },
   "outputs": [
    {
     "name": "stdout",
     "output_type": "stream",
     "text": [
      "colorado\n"
     ]
    }
   ],
   "source": [
    "db = SessionLocal()\n",
    "results = db.query(CraigslistSites).first()\n",
    "print(results.state)\n",
    "db.close()"
   ]
  },
  {
   "cell_type": "code",
   "execution_count": 10,
   "metadata": {},
   "outputs": [],
   "source": [
    "tacoma_listing_1 = {\n",
    "    'title': \"2022 Toyota Tacoma 4WD 4x4 Truck TRD Off Road Crew Cab - $37,697 (AutoNation Buick GMC Park Meadows)\",\n",
    "    'listing_description' : \"2022 Toyota Tacoma 4WD\",\n",
    "    'posting_body' : \"\"\"As America's Largest Automotive Retailer we have thousands of other vehicles, including many others that may be identical to this one.\n",
    "                         Use the link below to view similar inventory from this dealership.\n",
    "                        ↪ https://atmxi.com/CL-LEGe  🚗 \n",
    "                        1A0F2A155056A981\"\"\",\n",
    "    'image_link' : \"https://images.craigslist.org/01515_l8eYKPRC4TH_0ak07K_600x450.jpg\",\n",
    "    'cylinders' : \"6 cylinders\",\n",
    "    'drive' : \"4wd\",\n",
    "    'fuel' : \"gas\",\n",
    "    'odometer' : 38132,\n",
    "    'transmission' : \"automatic\",\n",
    "    'type' : \"truck\",\n",
    "}\n",
    "tacoma_listing_2 = {\n",
    "    'title': \"2022 Toyota Tacoma 4WD 4x4 Truck TRD Off Road Crew Cab - $37,697 (AutoNation Buick GMC Park Meadows)\",\n",
    "    'listing_description' : \"2022 Toyota Tacoma 4WD\",\n",
    "    'posting_body' : \"\"\"As America's Largest Automotive Retailer we have thousands of other vehicles, including many others that may be identical to this one.\n",
    "                         Use the link below to view similar inventory from this dealership.\n",
    "                        ↪ https://atmxi.com/CL-LEGe  🚗 \n",
    "                        1A0F2A155056A981\"\"\",\n",
    "    'image_link' : \"https://images.craigslist.org/01515_l8eYKPRC4TH_0ak07K_600x450.jpg\",\n",
    "    'cylinders' : \"4 cylinders\",\n",
    "    'drive' : \"2wd\",\n",
    "    'fuel' : \"gas\",\n",
    "    'odometer' : 28132,\n",
    "    'transmission' : \"manual\",\n",
    "    'type' : \"truck\",\n",
    "}"
   ]
  },
  {
   "cell_type": "code",
   "execution_count": 11,
   "metadata": {},
   "outputs": [],
   "source": [
    "data = [tacoma_listing_1, tacoma_listing_2]"
   ]
  },
  {
   "cell_type": "code",
   "execution_count": 12,
   "metadata": {},
   "outputs": [],
   "source": [
    "# make df form data ultimately, this will take in a .csv that is created from a db query\n",
    "df = pd.DataFrame(data)"
   ]
  },
  {
   "cell_type": "code",
   "execution_count": null,
   "metadata": {},
   "outputs": [],
   "source": [
    "df.head()"
   ]
  },
  {
   "cell_type": "code",
   "execution_count": 3,
   "metadata": {},
   "outputs": [],
   "source": [
    "import requests\n",
    "from PIL import Image\n",
    "from io import BytesIO\n",
    "import pandas as pd\n",
    "import numpy as np"
   ]
  },
  {
   "cell_type": "code",
   "execution_count": 134,
   "metadata": {},
   "outputs": [],
   "source": [
    "def download_image(image_url):\n",
    "    response = requests.get(image_url)\n",
    "    img = Image.open(BytesIO(response.content))\n",
    "    return img\n",
    "\n",
    "def one_hot_encode(df, categories):\n",
    "    # Apply one-hot encoding to the specified categories\n",
    "    df_encoded = pd.get_dummies(df, columns=categories, drop_first=False, prefix_sep='_', dtype=int)\n",
    "    \n",
    "    return df_encoded\n",
    "\n",
    "def load_data(df, categories):\n",
    "    # One-hot encode the specified categorical features\n",
    "    df_encoded = one_hot_encode(df, categories)\n",
    "\n",
    "    # embedd all text columns, title, listing_description, posting_body\n",
    "    df_encoded['title_embedding'] = df_encoded['title'].apply(get_embedding)\n",
    "\n",
    "    return df_encoded\n",
    "\n",
    "one_hot_categories = ['cylinders', 'drive', 'fuel', 'transmission', 'type']\n"
   ]
  },
  {
   "cell_type": "code",
   "execution_count": 135,
   "metadata": {},
   "outputs": [],
   "source": [
    "# the df now has all on hot categories embedded on hot style\n",
    "features_df = load_data(df, one_hot_categories)"
   ]
  },
  {
   "cell_type": "code",
   "execution_count": 136,
   "metadata": {},
   "outputs": [
    {
     "data": {
      "text/html": [
       "<div>\n",
       "<style scoped>\n",
       "    .dataframe tbody tr th:only-of-type {\n",
       "        vertical-align: middle;\n",
       "    }\n",
       "\n",
       "    .dataframe tbody tr th {\n",
       "        vertical-align: top;\n",
       "    }\n",
       "\n",
       "    .dataframe thead th {\n",
       "        text-align: right;\n",
       "    }\n",
       "</style>\n",
       "<table border=\"1\" class=\"dataframe\">\n",
       "  <thead>\n",
       "    <tr style=\"text-align: right;\">\n",
       "      <th></th>\n",
       "      <th>title</th>\n",
       "      <th>listing_description</th>\n",
       "      <th>posting_body</th>\n",
       "      <th>image_link</th>\n",
       "      <th>odometer</th>\n",
       "      <th>cylinders_4 cylinders</th>\n",
       "      <th>cylinders_6 cylinders</th>\n",
       "      <th>drive_2wd</th>\n",
       "      <th>drive_4wd</th>\n",
       "      <th>fuel_gas</th>\n",
       "      <th>transmission_automatic</th>\n",
       "      <th>transmission_manual</th>\n",
       "      <th>type_truck</th>\n",
       "      <th>title_embedding</th>\n",
       "    </tr>\n",
       "  </thead>\n",
       "  <tbody>\n",
       "    <tr>\n",
       "      <th>0</th>\n",
       "      <td>2022 Toyota Tacoma 4WD 4x4 Truck TRD Off Road ...</td>\n",
       "      <td>2022 Toyota Tacoma 4WD</td>\n",
       "      <td>As America's Largest Automotive Retailer we ha...</td>\n",
       "      <td>https://images.craigslist.org/01515_l8eYKPRC4T...</td>\n",
       "      <td>38132</td>\n",
       "      <td>0</td>\n",
       "      <td>1</td>\n",
       "      <td>0</td>\n",
       "      <td>1</td>\n",
       "      <td>1</td>\n",
       "      <td>1</td>\n",
       "      <td>0</td>\n",
       "      <td>1</td>\n",
       "      <td>[-0.013075966387987137, -0.029635490849614143,...</td>\n",
       "    </tr>\n",
       "    <tr>\n",
       "      <th>1</th>\n",
       "      <td>2022 Toyota Tacoma 4WD 4x4 Truck TRD Off Road ...</td>\n",
       "      <td>2022 Toyota Tacoma 4WD</td>\n",
       "      <td>As America's Largest Automotive Retailer we ha...</td>\n",
       "      <td>https://images.craigslist.org/01515_l8eYKPRC4T...</td>\n",
       "      <td>28132</td>\n",
       "      <td>1</td>\n",
       "      <td>0</td>\n",
       "      <td>1</td>\n",
       "      <td>0</td>\n",
       "      <td>1</td>\n",
       "      <td>0</td>\n",
       "      <td>1</td>\n",
       "      <td>1</td>\n",
       "      <td>[-0.013075966387987137, -0.029635490849614143,...</td>\n",
       "    </tr>\n",
       "  </tbody>\n",
       "</table>\n",
       "</div>"
      ],
      "text/plain": [
       "                                               title     listing_description  \\\n",
       "0  2022 Toyota Tacoma 4WD 4x4 Truck TRD Off Road ...  2022 Toyota Tacoma 4WD   \n",
       "1  2022 Toyota Tacoma 4WD 4x4 Truck TRD Off Road ...  2022 Toyota Tacoma 4WD   \n",
       "\n",
       "                                        posting_body  \\\n",
       "0  As America's Largest Automotive Retailer we ha...   \n",
       "1  As America's Largest Automotive Retailer we ha...   \n",
       "\n",
       "                                          image_link  odometer  \\\n",
       "0  https://images.craigslist.org/01515_l8eYKPRC4T...     38132   \n",
       "1  https://images.craigslist.org/01515_l8eYKPRC4T...     28132   \n",
       "\n",
       "   cylinders_4 cylinders  cylinders_6 cylinders  drive_2wd  drive_4wd  \\\n",
       "0                      0                      1          0          1   \n",
       "1                      1                      0          1          0   \n",
       "\n",
       "   fuel_gas  transmission_automatic  transmission_manual  type_truck  \\\n",
       "0         1                       1                    0           1   \n",
       "1         1                       0                    1           1   \n",
       "\n",
       "                                     title_embedding  \n",
       "0  [-0.013075966387987137, -0.029635490849614143,...  \n",
       "1  [-0.013075966387987137, -0.029635490849614143,...  "
      ]
     },
     "execution_count": 136,
     "metadata": {},
     "output_type": "execute_result"
    }
   ],
   "source": [
    "features_df.head()\n"
   ]
  },
  {
   "cell_type": "code",
   "execution_count": 42,
   "metadata": {},
   "outputs": [],
   "source": [
    "import torch\n",
    "from torch.utils.data import Dataset\n",
    "from torchvision import transforms\n",
    "from torch.utils.data import DataLoader"
   ]
  },
  {
   "cell_type": "code",
   "execution_count": 188,
   "metadata": {},
   "outputs": [],
   "source": [
    "class CarListingDataset(Dataset):\n",
    "    def __init__(self, dataframe, transform=None):\n",
    "        \"\"\"\n",
    "        dataframe: A Pandas DataFrame containing the data.\n",
    "        transform: PyTorch transforms to be applied to the images.\n",
    "        \"\"\"\n",
    "        self.dataframe = dataframe\n",
    "        self.transform = transform\n",
    "\n",
    "    def __len__(self):\n",
    "        return len(self.dataframe)\n",
    "\n",
    "    def __getitem__(self, idx):\n",
    "        # Get the data for one listing\n",
    "        listing = self.dataframe.iloc[idx]\n",
    "        # Download and process the image\n",
    "        image = self.download_image(listing['image_link'])\n",
    "        if self.transform:\n",
    "            image = self.transform(image)\n",
    "        else:\n",
    "            #convert image\n",
    "            # reorder to have 3 channels of 600x450  currently this results in 1 x 600 x 450 x 3\n",
    "            image = np.array(image)\n",
    "            image = torch.tensor(image, dtype=torch.float32)\n",
    "            image = image.permute(2, 0, 1)  # Change from [H, W, C] to [C, H, W]\n",
    "        \n",
    "      \n",
    "        # Extract and process other features (one-hot encoded)\n",
    "        features = listing.drop('image_link')  # Assuming 'image_link' is the only non-feature column\n",
    "\n",
    "        # Normalize 'odometer' feature\n",
    "        min_odometer = 0\n",
    "        max_odometer = 250000\n",
    "        features['odometer'] = (features['odometer'] - min_odometer) / (max_odometer - min_odometer)\n",
    "\n",
    "     \n",
    "        # Convert features and labels to tensors \n",
    "        # drop string columns title, listing_description, posting_body\n",
    "        features = features.drop(['title', 'listing_description', 'posting_body'])\n",
    "        # the column embedding is a list of 1536 floats this needs to be converted to a tensor, the column droped, then this tensor added to the other features\n",
    "        embedding_tensor = torch.tensor(features['title_embedding'], dtype=torch.float32)\n",
    "        features = features.drop(['title_embedding'])\n",
    "        features_array = features.values.astype(np.float32)\n",
    "        features_tensor = torch.tensor(features_array, dtype=torch.float32)\n",
    "        # combine embedding tensor with other features\n",
    "        full_tensor = torch.cat((features_tensor, embedding_tensor))\n",
    "        return image, full_tensor\n",
    "\n",
    "    @staticmethod\n",
    "    def download_image(image_url):\n",
    "        response = requests.get(image_url)\n",
    "        img = Image.open(BytesIO(response.content)).convert('RGB')\n",
    "        return img\n",
    "\n",
    "transform = transforms.Compose([\n",
    "    transforms.Resize((224, 224)),  # Resize all images to 224x224\n",
    "    transforms.ToTensor()           # Convert images to PyTorch tensors\n",
    "])\n"
   ]
  },
  {
   "cell_type": "code",
   "execution_count": 192,
   "metadata": {},
   "outputs": [],
   "source": [
    "\n",
    "dataset = CarListingDataset(features_df, transform=None)\n",
    "\n",
    "# DataLoader with a batch size of 1\n",
    "dataloader = DataLoader(dataset, batch_size=1, shuffle=False)\n"
   ]
  },
  {
   "cell_type": "code",
   "execution_count": null,
   "metadata": {},
   "outputs": [],
   "source": [
    "for image, features in dataloader:\n",
    "    print( features.shape)"
   ]
  },
  {
   "cell_type": "code",
   "execution_count": 84,
   "metadata": {},
   "outputs": [],
   "source": [
    "import torch.nn as nn\n",
    "import torch.nn.functional as F"
   ]
  },
  {
   "cell_type": "code",
   "execution_count": 85,
   "metadata": {},
   "outputs": [],
   "source": [
    "class CNN(nn.Module):\n",
    "    def __init__(self):\n",
    "        super(CNN, self).__init__()\n",
    "        \n",
    "        # First Convolutional Layer\n",
    "        self.conv1 = nn.Conv2d(in_channels=3, out_channels=16, kernel_size=3, padding=1)\n",
    "        self.pool = nn.MaxPool2d(kernel_size=2, stride=2)\n",
    "        # now 300 x 225 x 16\n",
    "\n",
    "        # Second Convolutional Layer\n",
    "        self.conv2 = nn.Conv2d(in_channels=16, out_channels=32, kernel_size=3, padding=1)\n",
    "        # after pooling 150 x 112 x 32\n",
    "\n",
    "        # Third Convolutional Layer\n",
    "        self.conv3 = nn.Conv2d(in_channels=32, out_channels=64, kernel_size=3, padding=1)\n",
    "        #after pooling 75 x 56 x 64\n",
    "\n",
    "        # Fully Connected Layer for Price Prediction\n",
    "        self.fc1 = nn.Linear(in_features=64 * 75 * 56, out_features=126)\n",
    "        self.fc2 = nn.Linear(in_features=126, out_features=1)\n",
    "\n",
    "        # Fully Connected Layer for 126-dimension vector\n",
    "        self.fc_vector = nn.Linear(in_features=64 * 75 * 56, out_features=126)\n",
    "\n",
    "    def forward(self, x, output_type='price'):\n",
    "        # Apply Convolutional layers and pooling layers\n",
    "        x = self.pool(F.relu(self.conv1(x)))\n",
    "        x = self.pool(F.relu(self.conv2(x)))\n",
    "        x = self.pool(F.relu(self.conv3(x)))\n",
    "\n",
    "        # Flatten the output for the dense layers\n",
    "        x = x.view(-1, 64 * 75 * 56)\n",
    "\n",
    "        if output_type == 'price':\n",
    "            # Fully connected layers for price prediction\n",
    "            x = F.relu(self.fc1(x))\n",
    "            x = self.fc2(x)\n",
    "            return x\n",
    "        elif output_type == 'feature_vector':\n",
    "            # Output a 126-dimensional feature vector\n",
    "            x = self.fc_vector(x)\n",
    "            return x\n"
   ]
  },
  {
   "cell_type": "code",
   "execution_count": 88,
   "metadata": {},
   "outputs": [],
   "source": [
    "model = CNN()\n",
    "model.eval()\n",
    "image, features = next(iter(dataloader))"
   ]
  },
  {
   "cell_type": "code",
   "execution_count": 92,
   "metadata": {},
   "outputs": [
    {
     "name": "stdout",
     "output_type": "stream",
     "text": [
      "Predicted Prices: torch.Size([1, 126])\n"
     ]
    }
   ],
   "source": [
    "with torch.no_grad():  # Disable gradient computation for inference\n",
    "    output = model(image, output_type='feature_vector')  # or 'feature_vector' based on your need\n",
    "\n",
    "# Print the model's prediction\n",
    "print(\"Predicted Prices:\", output.shape)"
   ]
  },
  {
   "cell_type": "code",
   "execution_count": 194,
   "metadata": {},
   "outputs": [],
   "source": [
    "class CarPriceANN(nn.Module):\n",
    "    def __init__(self):\n",
    "        super(CarPriceANN, self).__init__()\n",
    "        \n",
    "        # Define the fully connected layers\n",
    "        self.fc1 = nn.Linear(1671, 512)  # First layer takes 1671 features\n",
    "        self.fc2 = nn.Linear(512, 256)   # Second layer\n",
    "        self.fc3 = nn.Linear(256, 128)   # Third layer\n",
    "        self.fc4 = nn.Linear(128, 1)     # Final layer outputs the price prediction\n",
    "\n",
    "    def forward(self, x):\n",
    "        # Forward pass through the network\n",
    "        x = F.relu(self.fc1(x))\n",
    "        x = F.relu(self.fc2(x))\n",
    "        x = F.relu(self.fc3(x))\n",
    "        x = self.fc4(x)  # No activation function for regression output\n",
    "        return x\n"
   ]
  },
  {
   "cell_type": "code",
   "execution_count": 195,
   "metadata": {},
   "outputs": [
    {
     "data": {
      "text/plain": [
       "CarPriceANN(\n",
       "  (fc1): Linear(in_features=1671, out_features=512, bias=True)\n",
       "  (fc2): Linear(in_features=512, out_features=256, bias=True)\n",
       "  (fc3): Linear(in_features=256, out_features=128, bias=True)\n",
       "  (fc4): Linear(in_features=128, out_features=1, bias=True)\n",
       ")"
      ]
     },
     "execution_count": 195,
     "metadata": {},
     "output_type": "execute_result"
    }
   ],
   "source": [
    "ann_model = CarPriceANN()\n",
    "ann_model.eval()"
   ]
  },
  {
   "cell_type": "code",
   "execution_count": 196,
   "metadata": {},
   "outputs": [
    {
     "name": "stdout",
     "output_type": "stream",
     "text": [
      "torch.Size([1, 1671])\n"
     ]
    }
   ],
   "source": [
    "\n",
    "\n",
    "# Concatenate the CNN output and additional features\n",
    "combined_input = torch.cat((output, features), dim=1)  # Resulting tensor will be [1, 1671]\n",
    "print(combined_input.shape)"
   ]
  },
  {
   "cell_type": "code",
   "execution_count": 197,
   "metadata": {},
   "outputs": [],
   "source": [
    "price_predict = ann_model(combined_input)"
   ]
  },
  {
   "cell_type": "code",
   "execution_count": 198,
   "metadata": {},
   "outputs": [
    {
     "data": {
      "text/plain": [
       "tensor([[-0.1541]], grad_fn=<AddmmBackward0>)"
      ]
     },
     "execution_count": 198,
     "metadata": {},
     "output_type": "execute_result"
    }
   ],
   "source": [
    "price_predict"
   ]
  }
 ],
 "metadata": {
  "kernelspec": {
   "display_name": "Python 3 (ipykernel)",
   "language": "python",
   "name": "python3"
  },
  "language_info": {
   "codemirror_mode": {
    "name": "ipython",
    "version": 3
   },
   "file_extension": ".py",
   "mimetype": "text/x-python",
   "name": "python",
   "nbconvert_exporter": "python",
   "pygments_lexer": "ipython3",
   "version": "3.9.16"
  }
 },
 "nbformat": 4,
 "nbformat_minor": 4
}
